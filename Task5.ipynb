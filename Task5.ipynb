{
 "cells": [
  {
   "cell_type": "code",
   "execution_count": 1,
   "metadata": {},
   "outputs": [
    {
     "name": "stderr",
     "output_type": "stream",
     "text": [
      "D:\\Users\\anaconda3\\lib\\site-packages\\numpy\\_distributor_init.py:30: UserWarning: loaded more than 1 DLL from .libs:\n",
      "D:\\Users\\anaconda3\\lib\\site-packages\\numpy\\.libs\\libopenblas.NOIJJG62EMASZI6NYURL6JBKM4EVBGM7.gfortran-win_amd64.dll\n",
      "D:\\Users\\anaconda3\\lib\\site-packages\\numpy\\.libs\\libopenblas.PYQHXLVVQ7VESDPUVUADXEVJOBGHJPAY.gfortran-win_amd64.dll\n",
      "  warnings.warn(\"loaded more than 1 DLL from .libs:\\n%s\" %\n"
     ]
    }
   ],
   "source": [
    "import pickle\n",
    "import math\n",
    "import re\n",
    "import pymorphy2\n",
    "import nltk"
   ]
  },
  {
   "cell_type": "code",
   "execution_count": 2,
   "metadata": {},
   "outputs": [
    {
     "ename": "FileNotFoundError",
     "evalue": "[Errno 2] No such file or directory: 'index.pkl'",
     "output_type": "error",
     "traceback": [
      "\u001b[1;31m---------------------------------------------------------------------------\u001b[0m",
      "\u001b[1;31mFileNotFoundError\u001b[0m                         Traceback (most recent call last)",
      "\u001b[1;32m<ipython-input-2-1f33c36e35bb>\u001b[0m in \u001b[0;36m<module>\u001b[1;34m\u001b[0m\n\u001b[0;32m     39\u001b[0m     \u001b[1;32mreturn\u001b[0m \u001b[0mscalar_product\u001b[0m \u001b[1;33m/\u001b[0m \u001b[1;33m(\u001b[0m\u001b[0mvec1_magnitude\u001b[0m \u001b[1;33m*\u001b[0m \u001b[0mvec2_magnitude\u001b[0m\u001b[1;33m)\u001b[0m\u001b[1;33m\u001b[0m\u001b[1;33m\u001b[0m\u001b[0m\n\u001b[0;32m     40\u001b[0m \u001b[1;33m\u001b[0m\u001b[0m\n\u001b[1;32m---> 41\u001b[1;33m \u001b[0mindex\u001b[0m \u001b[1;33m=\u001b[0m \u001b[0mload_index\u001b[0m\u001b[1;33m(\u001b[0m\u001b[1;33m)\u001b[0m\u001b[1;33m\u001b[0m\u001b[1;33m\u001b[0m\u001b[0m\n\u001b[0m\u001b[0;32m     42\u001b[0m \u001b[0mtf_idf\u001b[0m \u001b[1;33m=\u001b[0m \u001b[0mload_dict\u001b[0m\u001b[1;33m(\u001b[0m\u001b[0mindex\u001b[0m\u001b[1;33m,\u001b[0m \u001b[1;34m\"tf-idf\"\u001b[0m\u001b[1;33m)\u001b[0m\u001b[1;33m\u001b[0m\u001b[1;33m\u001b[0m\u001b[0m\n\u001b[0;32m     43\u001b[0m \u001b[1;33m\u001b[0m\u001b[0m\n",
      "\u001b[1;32m<ipython-input-2-1f33c36e35bb>\u001b[0m in \u001b[0;36mload_index\u001b[1;34m()\u001b[0m\n\u001b[0;32m      5\u001b[0m     \u001b[1;32mreturn\u001b[0m \u001b[0mmatrix\u001b[0m\u001b[1;33m\u001b[0m\u001b[1;33m\u001b[0m\u001b[0m\n\u001b[0;32m      6\u001b[0m \u001b[1;32mdef\u001b[0m \u001b[0mload_index\u001b[0m\u001b[1;33m(\u001b[0m\u001b[1;33m)\u001b[0m\u001b[1;33m:\u001b[0m\u001b[1;33m\u001b[0m\u001b[1;33m\u001b[0m\u001b[0m\n\u001b[1;32m----> 7\u001b[1;33m     \u001b[1;32mwith\u001b[0m \u001b[0mopen\u001b[0m\u001b[1;33m(\u001b[0m\u001b[1;34m'index.pkl'\u001b[0m\u001b[1;33m,\u001b[0m \u001b[1;34m'rb'\u001b[0m\u001b[1;33m)\u001b[0m \u001b[1;32mas\u001b[0m \u001b[0mf\u001b[0m\u001b[1;33m:\u001b[0m\u001b[1;33m\u001b[0m\u001b[1;33m\u001b[0m\u001b[0m\n\u001b[0m\u001b[0;32m      8\u001b[0m         \u001b[1;32mreturn\u001b[0m \u001b[0mpickle\u001b[0m\u001b[1;33m.\u001b[0m\u001b[0mload\u001b[0m\u001b[1;33m(\u001b[0m\u001b[0mf\u001b[0m\u001b[1;33m)\u001b[0m\u001b[1;33m\u001b[0m\u001b[1;33m\u001b[0m\u001b[0m\n\u001b[0;32m      9\u001b[0m \u001b[1;33m\u001b[0m\u001b[0m\n",
      "\u001b[1;31mFileNotFoundError\u001b[0m: [Errno 2] No such file or directory: 'index.pkl'"
     ]
    }
   ],
   "source": [
    "def calculate_matrix(tf_idf):\n",
    "    matrix = dict.fromkeys(tf_idf.keys(), {})\n",
    "    for doc, words in tf_idf.items():\n",
    "        matrix[doc] = words\n",
    "    return matrix\n",
    "def load_index():\n",
    "    with open('index.pkl', 'rb') as f:\n",
    "        return pickle.load(f)  \n",
    "    \n",
    "    \n",
    "    \n",
    "def compute_tf_idf(tf, idf):\n",
    "    tf_idf = dict.fromkeys(idf.keys(), 0)\n",
    "    for word, v in tf.items():\n",
    "        if word in idf.keys():\n",
    "            tf_idf[word] = round(v * idf[word], 5)\n",
    "    return tf_idf\n",
    "    \n",
    "def load_dict(index, name):           \n",
    "    result = {}\n",
    "    f = open('{}.txt'.format(name), 'r', encoding='utf-8')\n",
    "    for line in f.read().split('\\n'):\n",
    "        if(len(line) > 0):\n",
    "            doc_num = int(line.split()[0])\n",
    "            word = line.split()[1].split(':')[0]\n",
    "            value = float(line.split()[1].split(':')[1])\n",
    "            if doc_num not in result:\n",
    "                   result[doc_num] = dict.fromkeys(index.keys(), 0)\n",
    "            result[doc_num][word] = value\n",
    "    return result\n",
    "\n",
    "    \n",
    "def calculate_simularity(vec1, vec2):\n",
    "    scalar_product = 0;\n",
    "    for word, value in vec1.items():\n",
    "        scalar_product += vec1[word] * vec2[word]\n",
    "    vec1_magnitude = calculate_magnitude(vec1)\n",
    "    vec2_magnitude = calculate_magnitude(vec2)\n",
    "    return scalar_product / (vec1_magnitude * vec2_magnitude)\n",
    "\n",
    "index = load_index()\n",
    "tf_idf = load_dict(index, \"tf-idf\")\n",
    "\n",
    "def load_idf(name):\n",
    "    result = {}\n",
    "    f = open('{}.txt'.format(name), 'r', encoding='utf-8')\n",
    "    for line in f.read().split('\\n'):\n",
    "        if(len(line) > 0):\n",
    "            word = line.split(':')[0]\n",
    "            value = float(line.split(':')[1])\n",
    "            result[word] = value\n",
    "    return result\n",
    "def tokenize(text):\n",
    "    text = text.lower()\n",
    "    text = re.sub(r'[^а-яА-Я ]', ' ', str(text))\n",
    "    return text.split()\n",
    "def lemmatize(words):\n",
    "    res = list()\n",
    "    for word in words:\n",
    "        if word not in stopwords:\n",
    "            p = morph.parse(word)[0]\n",
    "            res.append(p.normal_form)\n",
    "    return res\n",
    "\n",
    "def calculate_tf_idf(request):\n",
    "    index = load_index()\n",
    "    tf = calculate_tf(index, request)\n",
    "    idf = load_idf(\"idf\")\n",
    "    tf_idf = compute_tf_idf(tf, idf)\n",
    "    return tf_idf\n",
    "\n",
    "matrix = calculate_matrix(tf_idf)"
   ]
  },
  {
   "cell_type": "code",
   "execution_count": null,
   "metadata": {},
   "outputs": [],
   "source": [
    "from nltk.corpus import stopwords\n",
    "stopwords = stopwords.words(\"russian\")\n",
    "morph = pymorphy2.MorphAnalyzer()"
   ]
  },
  {
   "cell_type": "code",
   "execution_count": null,
   "metadata": {},
   "outputs": [],
   "source": [
    "def calculate_tf(index, request):\n",
    "    words = {}\n",
    "    for word in request:\n",
    "        if word not in words:\n",
    "            words[word] = 0\n",
    "        words[word] += 1\n",
    "        \n",
    "    tf = get_tf_value(words, request)\n",
    "    return tf\n",
    "\n",
    "def get_tf_value(words, doc):\n",
    "    tf = {}\n",
    "    total_words = len(doc)\n",
    "    for word, count in words.items():\n",
    "        tf[word] = round(count / total_words, 5)\n",
    "    return tf\n",
    "\n",
    "def get_vec_by_request(request,):\n",
    "    lemmatized = lemmatize(tokenize(request))\n",
    "    #vec = dict.fromkeys(tf_idf[1], 0)\n",
    "    vec = calculate_tf_idf(lemmatized)\n",
    "    return vec\n",
    "    \n",
    "def calculate_magnitude(vec):\n",
    "    result = 0\n",
    "    for v in vec.values():\n",
    "        result += v * v\n",
    "    return math.sqrt(result)"
   ]
  },
  {
   "cell_type": "code",
   "execution_count": null,
   "metadata": {},
   "outputs": [],
   "source": [
    "f = open('index.txt', 'r', encoding='utf-8')\n",
    "link_index = f.read().split('\\n')\n",
    "f.close()\n",
    "\n",
    "request = \"Казань столица татарстана\"\n",
    "vec = get_vec_by_request(request)\n",
    "\n",
    "all_simularity = {}\n",
    "for i in range(1,101):\n",
    "    simularity = calculate_simularity(vec, matrix[i])\n",
    "    if simularity > 0:\n",
    "        all_simularity[i] = simularity\n",
    "\n",
    "search = dict(sorted(all_simularity.items(), key=lambda item: item[1], reverse = True))\n",
    "for i in search.keys():\n",
    "    print(link_index[i - 1].split()[1])"
   ]
  },
  {
   "cell_type": "code",
   "execution_count": null,
   "metadata": {},
   "outputs": [],
   "source": []
  }
 ],
 "metadata": {
  "kernelspec": {
   "display_name": "Python 3",
   "language": "python",
   "name": "python3"
  },
  "language_info": {
   "codemirror_mode": {
    "name": "ipython",
    "version": 3
   },
   "file_extension": ".py",
   "mimetype": "text/x-python",
   "name": "python",
   "nbconvert_exporter": "python",
   "pygments_lexer": "ipython3",
   "version": "3.8.5"
  }
 },
 "nbformat": 4,
 "nbformat_minor": 5
}
